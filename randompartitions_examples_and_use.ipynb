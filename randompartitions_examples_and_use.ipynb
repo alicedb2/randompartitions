{
 "cells": [
  {
   "cell_type": "code",
   "execution_count": 1,
   "metadata": {
    "collapsed": false
   },
   "outputs": [],
   "source": [
    "%matplotlib inline\n",
    "import matplotlib.pyplot as plt\n",
    "plt.style.use('ggplot')\n",
    "import randompartitions\n",
    "from collections import Counter\n",
    "import numpy\n",
    "from numpy import var, log, exp, arange, sqrt, pi\n",
    "from scipy.stats import chi2"
   ]
  },
  {
   "cell_type": "code",
   "execution_count": 2,
   "metadata": {
    "collapsed": false
   },
   "outputs": [
    {
     "name": "stdout",
     "output_type": "stream",
     "text": [
      "[31, 17, 12, 10, 10, 4, 4, 4, 2, 2, 1, 1, 1, 1]\n"
     ]
    }
   ],
   "source": [
    "partition = randompartitions.randomPartition_AD5(100)\n",
    "print(partition)"
   ]
  },
  {
   "cell_type": "markdown",
   "metadata": {},
   "source": [
    "##### The plot function is very badly behaved (creates its own figure with voodoo scalings, etc) and not to be relied on\n",
    "### The French notation is assumed by default"
   ]
  },
  {
   "cell_type": "code",
   "execution_count": 3,
   "metadata": {
    "collapsed": false,
    "scrolled": false
   },
   "outputs": [
    {
     "data": {
      "text/plain": [
       "<matplotlib.text.Text at 0x10e1a8b10>"
      ]
     },
     "execution_count": 3,
     "metadata": {},
     "output_type": "execute_result"
    },
    {
     "data": {
      "image/png": "[encoded data removed]",
      "text/plain": [
       "<matplotlib.figure.Figure at 0x10460ac50>"
      ]
     },
     "metadata": {},
     "output_type": "display_data"
    }
   ],
   "source": [
    "randompartitions.plot_YoungDiagram(partition)\n",
    "plt.title(partition)"
   ]
  },
  {
   "cell_type": "code",
   "execution_count": 4,
   "metadata": {
    "collapsed": false
   },
   "outputs": [
    {
     "name": "stdout",
     "output_type": "stream",
     "text": [
      "[19, 19, 16, 10, 10, 6, 4, 4, 3, 3, 3, 2, 1]\n"
     ]
    }
   ],
   "source": [
    "partition2 = randompartitions.randomPartition_AD5(100)\n",
    "print(partition2)"
   ]
  },
  {
   "cell_type": "markdown",
   "metadata": {},
   "source": [
    "### The english notation places the largest part on top."
   ]
  },
  {
   "cell_type": "code",
   "execution_count": 5,
   "metadata": {
    "collapsed": false
   },
   "outputs": [
    {
     "data": {
      "text/plain": [
       "<matplotlib.text.Text at 0x10e655750>"
      ]
     },
     "execution_count": 5,
     "metadata": {},
     "output_type": "execute_result"
    },
    {
     "data": {
      "image/png": "[encoded data removed]",
      "text/plain": [
       "<matplotlib.figure.Figure at 0x10e450f90>"
      ]
     },
     "metadata": {},
     "output_type": "display_data"
    }
   ],
   "source": [
    "randompartitions.plot_YoungDiagram(partition2, notation='english')\n",
    "plt.title(partition2)"
   ]
  },
  {
   "cell_type": "markdown",
   "metadata": {},
   "source": [
    "### You can also put a constrain on the number of parts"
   ]
  },
  {
   "cell_type": "code",
   "execution_count": 6,
   "metadata": {
    "collapsed": false
   },
   "outputs": [
    {
     "name": "stdout",
     "output_type": "stream",
     "text": [
      "[36, 13, 13, 9, 7, 7, 6, 6, 2, 1]\n"
     ]
    }
   ],
   "source": [
    "partition_10parts = randompartitions.randomPartition_AD5(100, 10)\n",
    "print(partition_10parts)"
   ]
  },
  {
   "cell_type": "code",
   "execution_count": 7,
   "metadata": {
    "collapsed": false
   },
   "outputs": [
    {
     "data": {
      "image/png": "[encoded data removed]",
      "text/plain": [
       "<matplotlib.figure.Figure at 0x10460a6d0>"
      ]
     },
     "metadata": {},
     "output_type": "display_data"
    }
   ],
   "source": [
    "randompartitions.plot_YoungDiagram(partition_10parts)"
   ]
  },
  {
   "cell_type": "markdown",
   "metadata": {},
   "source": [
    "### Is it uniform?"
   ]
  },
  {
   "cell_type": "code",
   "execution_count": 8,
   "metadata": {
    "collapsed": false
   },
   "outputs": [
    {
     "data": {
      "text/plain": [
       "Counter({(3, 2, 2, 2, 2, 2, 2): 52,\n",
       "         (3, 3, 2, 2, 2, 2, 1): 46,\n",
       "         (3, 3, 3, 2, 2, 1, 1): 56,\n",
       "         (3, 3, 3, 3, 1, 1, 1): 52,\n",
       "         (4, 2, 2, 2, 2, 2, 1): 46,\n",
       "         (4, 3, 2, 2, 2, 1, 1): 42,\n",
       "         (4, 3, 3, 2, 1, 1, 1): 52,\n",
       "         (4, 4, 2, 2, 1, 1, 1): 47,\n",
       "         (4, 4, 3, 1, 1, 1, 1): 51,\n",
       "         (5, 2, 2, 2, 2, 1, 1): 47,\n",
       "         (5, 3, 2, 2, 1, 1, 1): 42,\n",
       "         (5, 3, 3, 1, 1, 1, 1): 50,\n",
       "         (5, 4, 2, 1, 1, 1, 1): 42,\n",
       "         (5, 5, 1, 1, 1, 1, 1): 53,\n",
       "         (6, 2, 2, 2, 1, 1, 1): 44,\n",
       "         (6, 3, 2, 1, 1, 1, 1): 59,\n",
       "         (6, 4, 1, 1, 1, 1, 1): 41,\n",
       "         (7, 2, 2, 1, 1, 1, 1): 43,\n",
       "         (7, 3, 1, 1, 1, 1, 1): 48,\n",
       "         (8, 2, 1, 1, 1, 1, 1): 46,\n",
       "         (9, 1, 1, 1, 1, 1, 1): 41})"
      ]
     },
     "execution_count": 8,
     "metadata": {},
     "output_type": "execute_result"
    }
   ],
   "source": [
    "nb_draws = 1000\n",
    "occurences = Counter([tuple(randompartitions.randomPartition_AD5(15, 7)) for _ in range(nb_draws)])\n",
    "occurences"
   ]
  },
  {
   "cell_type": "code",
   "execution_count": 9,
   "metadata": {
    "collapsed": false
   },
   "outputs": [
    {
     "data": {
      "text/plain": [
       "(40.25, 35.590635999999996)"
      ]
     },
     "execution_count": 9,
     "metadata": {},
     "output_type": "execute_result"
    }
   ],
   "source": [
    "variance_discreteRV = ((len(occurences) + 1.0)**2 - 1.0)/12\n",
    "variance_sample = var([i for i, s in enumerate(occurences.values()) for _ in range(s)])\n",
    "variance_discreteRV, variance_sample"
   ]
  },
  {
   "cell_type": "code",
   "execution_count": 10,
   "metadata": {
    "collapsed": false
   },
   "outputs": [],
   "source": [
    "f = 1.0/len(occurences)\n",
    "G_statistic = 2*sum([o*(log(o) - log(nb_draws) - log(f)) for o in occurences.values()])"
   ]
  },
  {
   "cell_type": "code",
   "execution_count": 11,
   "metadata": {
    "collapsed": false
   },
   "outputs": [
    {
     "data": {
      "text/plain": [
       "(10.969155421417675, 1.0)"
      ]
     },
     "execution_count": 11,
     "metadata": {},
     "output_type": "execute_result"
    }
   ],
   "source": [
    "G_statistic, chi2.sf(G_statistic, nb_draws - 1)"
   ]
  },
  {
   "cell_type": "markdown",
   "metadata": {},
   "source": [
    "### p-value for the G test (LRT/information divergence goodness of fit) is 1.0\n",
    "### It's uniform with probability virtually 1"
   ]
  },
  {
   "cell_type": "markdown",
   "metadata": {},
   "source": [
    "### Asymptotic behavior"
   ]
  },
  {
   "cell_type": "markdown",
   "metadata": {},
   "source": [
    "For partitions of $n\\gg 1$, the relation between parts $\\lambda_k$ part sizes $k$([*Boris Pittel. On a likely shape of the random Ferrers diagram. Adv. in Appl. Math., 18(4):432–488, 1997*](http://dx.doi.org/10.1006/aama.1996.0523)) follows\n",
    "\n",
    "$$\\exp\\left(-\\frac{c\\lambda_k}{\\sqrt{n}}\\right) + \\exp\\left(-\\frac{c k}{\\sqrt{n}}\\right) = 1$$\n",
    "where $c = \\pi/\\sqrt{6}$. Isolating $k$ or $\\lambda_k$ we find the curve\n",
    "$$\\lambda_k = -\\frac{\\sqrt{6n}}{\\pi}\\log\\left(1 - \\exp\\left(-\\frac{\\pi k}{\\sqrt{6n}}\\right)\\right)$$"
   ]
  },
  {
   "cell_type": "code",
   "execution_count": 12,
   "metadata": {
    "collapsed": false,
    "scrolled": false
   },
   "outputs": [
    {
     "data": {
      "image/png": "[encoded data removed]",
      "text/plain": [
       "<matplotlib.figure.Figure at 0x10f951550>"
      ]
     },
     "metadata": {},
     "output_type": "display_data"
    }
   ],
   "source": [
    "n = 1000\n",
    "large_partition = randompartitions.randomPartition_AD5(n)\n",
    "\n",
    "plt.figure(figsize=(12, 12))\n",
    "randompartitions.plot_YoungDiagram(large_partition)\n",
    "randompartitions.plot_asymptotic_shape(large_partition)"
   ]
  },
  {
   "cell_type": "code",
   "execution_count": null,
   "metadata": {
    "collapsed": true
   },
   "outputs": [],
   "source": []
  }
 ],
 "metadata": {
  "anaconda-cloud": {},
  "kernelspec": {
   "display_name": "Python [default]",
   "language": "python",
   "name": "python2"
  },
  "language_info": {
   "codemirror_mode": {
    "name": "ipython",
    "version": 2
   },
   "file_extension": ".py",
   "mimetype": "text/x-python",
   "name": "python",
   "nbconvert_exporter": "python",
   "pygments_lexer": "ipython2",
   "version": "2.7.11"
  }
 },
 "nbformat": 4,
 "nbformat_minor": 0
}
